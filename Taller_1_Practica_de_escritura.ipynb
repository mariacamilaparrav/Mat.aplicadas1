{
  "nbformat": 4,
  "nbformat_minor": 0,
  "metadata": {
    "colab": {
      "provenance": [],
      "include_colab_link": true
    },
    "kernelspec": {
      "name": "python3",
      "display_name": "Python 3"
    },
    "language_info": {
      "name": "python"
    }
  },
  "cells": [
    {
      "cell_type": "markdown",
      "metadata": {
        "id": "view-in-github",
        "colab_type": "text"
      },
      "source": [
        "<a href=\"https://colab.research.google.com/github/mariacamilaparrav/Mat.aplicadas1/blob/main/Taller_1_Practica_de_escritura.ipynb\" target=\"_parent\"><img src=\"https://colab.research.google.com/assets/colab-badge.svg\" alt=\"Open In Colab\"/></a>"
      ]
    },
    {
      "cell_type": "markdown",
      "source": [
        "Isabella Laverde A00407809"
      ],
      "metadata": {
        "id": "664-WU54MgQ3"
      }
    },
    {
      "cell_type": "markdown",
      "source": [
        "#Punto 1#\n",
        "\n",
        "**Área lateral de un cilindro**\n",
        "$A= 2\\pi rg$\n",
        "\n",
        "*Despejada:*\n",
        "$r=\\frac{A}{2\\pi{g}}$\n",
        "\n",
        "**Volumen de la esfera**\n",
        "$V= \\frac{A_{B} \\cdot h}{3}$\n",
        "\n",
        "*Despejada:*\n",
        "$h=\\frac{3V}{A_{B}}$\n",
        "\n",
        "**Volumen de la esfera**\n",
        "$V=\\frac{4}{3}\\cdot\\pi\\cdot{r^{3}}$\n",
        "\n",
        "*Despejada:*\n",
        "$r=\\sqrt[3]{\\frac{3V}{4\\pi}}$\n",
        "\n",
        "**Área del trapecio**\n",
        "$A=\\frac{B+b}{2}\\cdot{h}$\n",
        "\n",
        "*Despejada:*\n",
        "$h=\\frac{2A}{B+b}$\n",
        "\n",
        "**Intensidad eléctrica**\n",
        "$I=\\frac{q}{t}$\n",
        "\n",
        "*Despejada:*\n",
        "$t=\\frac{q}{I}$\n",
        "\n",
        "**Ley de Ohm**\n",
        "$I=\\frac{V}{R}$\n",
        "\n",
        "*Despejada:*\n",
        "$R=\\frac{V}{I}$\n",
        "\n",
        "**Energia eléctrica**\n",
        "$E=\\frac{V^{2}}{R}\\cdot{t}$\n",
        "\n",
        "*Despejar:*\n",
        "$t=\\frac{ER}{V^{2}}$\n",
        "\n",
        "**Resistencias en paralelo**\n",
        "$\\frac{1}{R}=\\frac{1}{R_{1}}+\\frac{1}{R_{2}}$\n",
        "\n",
        "*Despejada:*\n",
        "$R=(\\frac{1}{R_{1}}+\\frac{1}{R_{2}})^{-1}$\n",
        "\n",
        "**Ecuación gases perfectos**\n",
        "$\\frac{P_{0}V_{0}}{T_{0}}=\\frac{P_{f}V_{f}}{T_{f}}$\n",
        "\n",
        "*Despejada:*\n",
        "$P_{f}=\\frac{P_{0}V_{0}T_{f}}{T_{0}V_{f}}$\n",
        "\n",
        "**Intensidad eléctrica**\n",
        "$I=\\frac{V_{A}-V_{B}}{R}$\n",
        "\n",
        "*Despejada:*\n",
        "$V_{B}=V_{A}-I\\cdot{R}$"
      ],
      "metadata": {
        "id": "NSZx6r_E79i7"
      }
    },
    {
      "cell_type": "markdown",
      "source": [
        "#Punto 2#\n",
        "\n",
        "**Ecuación 1:** $[3(−5 + 10 + (−5)) − 2((−2) + (−4) + 10)]^2$"
      ],
      "metadata": {
        "id": "oOSxgZkdJZ47"
      }
    },
    {
      "cell_type": "code",
      "source": [
        "  res1 = (3 * (-5 + 10 + (-5)) - 2 * ((-2) + (-4) + 10))**2\n",
        "  print(res1)"
      ],
      "metadata": {
        "colab": {
          "base_uri": "https://localhost:8080/"
        },
        "id": "xIQgEp8_JbR5",
        "outputId": "f5eca138-0cc8-431c-a9eb-5991b9ab9023"
      },
      "execution_count": null,
      "outputs": [
        {
          "output_type": "stream",
          "name": "stdout",
          "text": [
            "64\n"
          ]
        }
      ]
    },
    {
      "cell_type": "markdown",
      "source": [
        "**Ecuación 2:** $45 + [3 (2 + 8) – \\frac{8}{4}] + 10 − 83$"
      ],
      "metadata": {
        "id": "Y17NodcvJmI8"
      }
    },
    {
      "cell_type": "code",
      "source": [
        "res2 = 45 + (3 * (2 + 8) - (8 / 4)) + 10 - 83\n",
        "print(res2)"
      ],
      "metadata": {
        "colab": {
          "base_uri": "https://localhost:8080/"
        },
        "id": "jsBWQfAqJpvz",
        "outputId": "0f5177cb-4275-4263-8945-ee9860332f89"
      },
      "execution_count": null,
      "outputs": [
        {
          "output_type": "stream",
          "name": "stdout",
          "text": [
            "0.0\n"
          ]
        }
      ]
    },
    {
      "cell_type": "markdown",
      "source": [
        "**Ecuación 3:** $[( −4 + 7)2 − 10]\\cdot (−4)– 7 – 3$"
      ],
      "metadata": {
        "id": "FvZebHUAJsl4"
      }
    },
    {
      "cell_type": "code",
      "source": [
        "res3 = (((-4) + 7)**2 - 10) * (-4) - 7 - 3\n",
        "print(res3)"
      ],
      "metadata": {
        "colab": {
          "base_uri": "https://localhost:8080/"
        },
        "id": "pgbyuNpcJv2r",
        "outputId": "9dcaeb6b-6055-446f-963f-5dbdcc022b1c"
      },
      "execution_count": null,
      "outputs": [
        {
          "output_type": "stream",
          "name": "stdout",
          "text": [
            "-6\n"
          ]
        }
      ]
    },
    {
      "cell_type": "markdown",
      "source": [
        "#Punto 3#\n",
        "\n",
        "**Operación 1**"
      ],
      "metadata": {
        "id": "oQ7AD_O8MLDB"
      }
    },
    {
      "cell_type": "code",
      "source": [
        "op1 = 1/5*((1/2)**2+(3/4)**2)+10/25*((1/2)**2+(3/4)**2)+8/40*((1/2)**2+(3/4)**2)\n",
        "print (\"resultado operación 1 =\" , float(op1))\n"
      ],
      "metadata": {
        "colab": {
          "base_uri": "https://localhost:8080/"
        },
        "id": "Uxaozl1zOzDI",
        "outputId": "c9fda9e7-203f-48c0-a8c8-db3cfa6f5ebe"
      },
      "execution_count": null,
      "outputs": [
        {
          "output_type": "stream",
          "name": "stdout",
          "text": [
            "resultado operación 1 = 0.65\n"
          ]
        }
      ]
    },
    {
      "cell_type": "markdown",
      "source": [
        "**Operación 2**"
      ],
      "metadata": {
        "id": "_08XCw4SO6tj"
      }
    },
    {
      "cell_type": "markdown",
      "source": [
        "# Punto 4\n",
        "\n",
        "\n"
      ],
      "metadata": {
        "id": "YFEeBOg5M8ly"
      }
    },
    {
      "cell_type": "code",
      "source": [
        "nombre=str(input(\"Ingrese su nombre: \"))\n",
        "peso = float(input(\"Ingrese su peso en kilogramos: \"))\n",
        "talla = float(input(\"Ingrese su altura en metros: \"))\n",
        "\n",
        "imc = peso / (talla**2)\n",
        "\n",
        "print(f\"Nombre: {nombre} IMC: {imc}\")"
      ],
      "metadata": {
        "id": "vLeUP4S0NKn6"
      },
      "execution_count": null,
      "outputs": []
    },
    {
      "cell_type": "markdown",
      "source": [
        "# Punto 5"
      ],
      "metadata": {
        "id": "jHcTSNYNNUwo"
      }
    },
    {
      "cell_type": "code",
      "source": [
        "numero_1 = float(input(\"Ingrese un número: \"))\n",
        "numero_2 = float(input(\"Ingrese otro número: \"))\n",
        "\n",
        "suma = numero_1 + numero_2\n",
        "resta= numero_1 - numero_2\n",
        "multiplicacion = numero_1* numero_2\n",
        "\n",
        "print(f\"La suma de los dos números es {suma}\")\n",
        "print(f\"La resta de los dos números es {resta}\")\n",
        "print(f\"El producto de los dos números es {multiplicacion}\")\n",
        "\n",
        "if numero_2 == 0:\n",
        "    print(\"La división no es posible.\")\n",
        "else:\n",
        "    division = numero_1/numero_2\n",
        "    print(f\"El cociente de los dos números es {division}\")"
      ],
      "metadata": {
        "id": "sf--T9MeNYIB"
      },
      "execution_count": null,
      "outputs": []
    },
    {
      "cell_type": "markdown",
      "source": [
        "# Punto 6"
      ],
      "metadata": {
        "id": "ehtsDu_cNpjf"
      }
    },
    {
      "cell_type": "code",
      "source": [
        "precios_petroleo_por_dia = [76.24, 77.88, 78.31, 77.22, 76.71, 76.45, 77.17] #En dólares\n",
        "precio_litro_cocacola = 1.05 # En dólares\n",
        "litros_por_barril = 159\n",
        "\n",
        "precio_barril_cocacola = precio_litro_cocacola * litros_por_barril\n",
        "\n",
        "proporciones = []\n",
        "for precio_petroleo in precios_petroleo_por_dia:\n",
        "    proporcion = precio_barril_cocacola / precio_petroleo\n",
        "    proporciones.append(proporcion)\n",
        "\n",
        "for i, proporcion in enumerate(proporciones):\n",
        "    print(f\"Día {i+1}: La Coca-Cola es {proporcion:.2f} veces más cara que el petróleo.\")"
      ],
      "metadata": {
        "id": "T-wE0sfENsNp"
      },
      "execution_count": null,
      "outputs": []
    },
    {
      "cell_type": "markdown",
      "source": [
        "Al comparar los precios de la Coca-Cola hoy y el pétroleo los últimos siete dias, se evidencia que para todos los días el barril de Coca-Cola es apróximadamente dos veces más costoso que el barril de pétroleo."
      ],
      "metadata": {
        "id": "a7cMFUdcNv64"
      }
    }
  ]
}