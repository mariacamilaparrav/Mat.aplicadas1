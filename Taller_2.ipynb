{
  "nbformat": 4,
  "nbformat_minor": 0,
  "metadata": {
    "colab": {
      "provenance": [],
      "include_colab_link": true
    },
    "kernelspec": {
      "name": "python3",
      "display_name": "Python 3"
    },
    "language_info": {
      "name": "python"
    }
  },
  "cells": [
    {
      "cell_type": "markdown",
      "metadata": {
        "id": "view-in-github",
        "colab_type": "text"
      },
      "source": [
        "<a href=\"https://colab.research.google.com/github/mariacamilaparrav/Mat.aplicadas1/blob/main/Taller_2.ipynb\" target=\"_parent\"><img src=\"https://colab.research.google.com/assets/colab-badge.svg\" alt=\"Open In Colab\"/></a>"
      ]
    },
    {
      "cell_type": "markdown",
      "source": [
        "Isabella Laverde A00407809,\n",
        "Maria Camila Parra A00411486,\n",
        "Jhuleidy Perlaza A00411804 ,\n",
        "Juan Fernando Montoya A00410488."
      ],
      "metadata": {
        "id": "b4a62i5AXv5n"
      }
    },
    {
      "cell_type": "markdown",
      "source": [
        "**Punto 1**"
      ],
      "metadata": {
        "id": "yUiBCUnvXaPO"
      }
    },
    {
      "cell_type": "code",
      "source": [
        "def obtener_primos(lista):\n",
        "    def es_primo(numero):\n",
        "        if numero < 2:\n",
        "            return False\n",
        "        for i in range(2, int(numero**0.5) + 1):\n",
        "            if numero % i == 0:\n",
        "                return False\n",
        "        return True\n",
        "\n",
        "    return [num for num in lista if es_primo(num)]\n",
        "\n",
        "numeros = [10,3,5,8,13,17,20]\n",
        "\n",
        "primos = obtener_primos(numeros)\n",
        "print(primos)"
      ],
      "metadata": {
        "colab": {
          "base_uri": "https://localhost:8080/"
        },
        "id": "0lEJm3S6TCM5",
        "outputId": "007bc3c7-0529-420b-f82c-89b22af97116"
      },
      "execution_count": null,
      "outputs": [
        {
          "output_type": "stream",
          "name": "stdout",
          "text": [
            "[3, 5, 13, 17]\n"
          ]
        }
      ]
    },
    {
      "cell_type": "markdown",
      "source": [
        "**Punto 2**"
      ],
      "metadata": {
        "id": "morOaWJdWq9g"
      }
    },
    {
      "cell_type": "code",
      "source": [
        "def elementos_comunes(lista1,lista2):\n",
        "  #Convertimos ambas listas en conjuntos y obtenemos la interseccion\n",
        "  return list(set(lista1)&set(lista2))\n",
        "  #Ejemplo de uso:\n",
        "Lista_a=[1,2,3,4,5,6]\n",
        "Lista_b=[4,5,6,7,8,9]\n",
        "comunes=elementos_comunes(Lista_a,Lista_b)\n",
        "print(comunes)\n",
        "#posible salida:[4,5,6]"
      ],
      "metadata": {
        "id": "Btb7X59mW2sN",
        "colab": {
          "base_uri": "https://localhost:8080/"
        },
        "outputId": "750694f0-5f78-4659-bda0-e43e0c607bcd"
      },
      "execution_count": null,
      "outputs": [
        {
          "output_type": "stream",
          "name": "stdout",
          "text": [
            "[4, 5, 6]\n"
          ]
        }
      ]
    },
    {
      "cell_type": "markdown",
      "source": [
        "**Punto 3**"
      ],
      "metadata": {
        "id": "V64pN2feYiEo"
      }
    },
    {
      "cell_type": "code",
      "source": [
        "import math\n",
        "\n",
        "def es_primo(numero):\n",
        "    if numero < 2:\n",
        "        return False\n",
        "    for i in range(2, int(numero ** 0.5) + 1):\n",
        "        if numero % i == 0:\n",
        "            return False\n",
        "    return True\n",
        "\n",
        "def filtrar_primos(lista_numeros):\n",
        "    return [num for num in lista_numeros if es_primo(num)]\n",
        "\n",
        "def convertir_a_matriz(lista_numeros):\n",
        "    n = int(math.sqrt(len(lista_numeros)))\n",
        "    if n * n != len(lista_numeros):\n",
        "        return \"Error: No se puede formar una matriz cuadrada.\"\n",
        "    return [lista_numeros[i * n:(i + 1) * n] for i in range(n)]\n",
        "\n",
        "# Pruebas\n",
        "num = int(input(\"Ingresa un número para verificar si es primo: \"))\n",
        "if es_primo(num):\n",
        "    print(f\"{num} es un número primo.\")\n",
        "else:\n",
        "    print(f\"{num} no es un número primo.\")\n",
        "\n",
        "lista = [10, 3, 5, 8, 13, 17, 20]\n",
        "print(\"Lista de números primos:\", filtrar_primos(lista))\n",
        "\n",
        "lista_matriz = [1, 2, 3, 4, 5, 6, 7, 8, 9]\n",
        "print(\"Matriz cuadrada:\", convertir_a_matriz(lista_matriz))"
      ],
      "metadata": {
        "colab": {
          "base_uri": "https://localhost:8080/"
        },
        "id": "L-ccynnoKQW-",
        "outputId": "ac397131-ca86-44bc-cf5f-0a233ed2d424"
      },
      "execution_count": 1,
      "outputs": [
        {
          "output_type": "stream",
          "name": "stdout",
          "text": [
            "Ingresa un número para verificar si es primo: 3\n",
            "3 es un número primo.\n",
            "Lista de números primos: [3, 5, 13, 17]\n",
            "Matriz cuadrada: [[1, 2, 3], [4, 5, 6], [7, 8, 9]]\n"
          ]
        }
      ]
    },
    {
      "cell_type": "markdown",
      "source": [
        "**Punto 4**"
      ],
      "metadata": {
        "id": "mp7-AAZrq7Kd"
      }
    },
    {
      "cell_type": "code",
      "source": [
        "def calcular_media_mediana_moda(lista):\n",
        "    if not lista:\n",
        "        return None, None, None\n",
        "\n",
        "\n",
        "    Media = sum(lista) / len(lista)\n",
        "\n",
        "    lista_ordenada = sorted(lista)\n",
        "    n = len(lista_ordenada)\n",
        "\n",
        "    if n % 2 == 1:\n",
        "        Mediana = lista_ordenada[n // 2]\n",
        "    else:\n",
        "        Mediana = (lista_ordenada[n // 2 - 1] + lista_ordenada[n // 2]) / 2\n",
        "\n",
        "\n",
        "    frecuencia = {}\n",
        "    for num in lista:\n",
        "        frecuencia[num] = frecuencia.get(num, 0) + 1\n",
        "\n",
        "    max_frecuencia = max(frecuencia.values())\n",
        "    modas = [num for num, freq in frecuencia.items() if freq == max_frecuencia]\n",
        "\n",
        "\n",
        "    Moda = modas if len(modas) > 1 else modas[0]\n",
        "\n",
        "    return Media, Mediana, Moda\n",
        "\n",
        "\n",
        "print(calcular_media_mediana_moda([8, 14, 23, 11, 10, 5, 18]))"
      ],
      "metadata": {
        "id": "0AbwKz79rC9f",
        "colab": {
          "base_uri": "https://localhost:8080/"
        },
        "outputId": "b9324ae6-d12b-410a-9b99-6eb08f4ace65"
      },
      "execution_count": null,
      "outputs": [
        {
          "output_type": "stream",
          "name": "stdout",
          "text": [
            "(12.714285714285714, 11, [8, 14, 23, 11, 10, 5, 18])\n"
          ]
        }
      ]
    },
    {
      "cell_type": "markdown",
      "source": [
        "**Punto 5**"
      ],
      "metadata": {
        "id": "8Pw1nK1frMWK"
      }
    },
    {
      "cell_type": "code",
      "source": [
        "def total(precios, cantidades):\n",
        "    total = 0\n",
        "    for i in range(len(precios)):\n",
        "        total += precios[i] * cantidades[i]\n",
        "\n",
        "    if total > 100:\n",
        "        total *= 0.9\n",
        "    return total\n",
        "\n",
        "\n",
        "print(total([40, 55, 60], [2, 4, 7]))"
      ],
      "metadata": {
        "colab": {
          "base_uri": "https://localhost:8080/"
        },
        "id": "ft19Sx6lrO1f",
        "outputId": "a6fc4cc1-7dc1-4d50-c2f8-da057fbc0f43"
      },
      "execution_count": null,
      "outputs": [
        {
          "output_type": "stream",
          "name": "stdout",
          "text": [
            "648.0\n"
          ]
        }
      ]
    },
    {
      "cell_type": "markdown",
      "source": [
        "**Punto 6**"
      ],
      "metadata": {
        "id": "VnBl1C4arVDo"
      }
    },
    {
      "cell_type": "code",
      "source": [
        "def inventario(inventario, vendidos):\n",
        "    for producto in vendidos:\n",
        "        if producto in inventario:\n",
        "            inventario.remove(producto)\n",
        "    return inventario\n",
        "\n",
        "print(inventario([\"huevos\", \"lechuga\", \"miel\", \"leche\", \"pan\", \"huevo\"], [\"leche\", \"pan\", \"huevo\"]))"
      ],
      "metadata": {
        "colab": {
          "base_uri": "https://localhost:8080/"
        },
        "id": "X5PtmokzrYi4",
        "outputId": "880b41a2-a2db-4604-83d2-0f099fca76b1"
      },
      "execution_count": null,
      "outputs": [
        {
          "output_type": "stream",
          "name": "stdout",
          "text": [
            "['huevos', 'lechuga', 'miel']\n"
          ]
        }
      ]
    },
    {
      "cell_type": "markdown",
      "source": [
        "**Punto 7**"
      ],
      "metadata": {
        "id": "zD8p6EbT9z3p"
      }
    },
    {
      "cell_type": "code",
      "source": [
        "def clasificacion(temperatura):\n",
        "  altas = sum(1 for temperatura in temperatura if temperatura > 30)\n",
        "  medias = sum(1 for temperatura in temperatura if 20 <= temperatura <= 30)\n",
        "  bajas = sum(1 for temperatura in temperatura if temperatura < 20)\n",
        "\n",
        "  return altas, medias, bajas\n",
        "\n",
        "#Lista de ejemplo:\n",
        "temperatura = [12,16,21,28,31,32,23,16,37,34,10,15,22]\n",
        "res = clasificacion(temperatura)\n",
        "print(res[0],\"días estuvieron por encima de 30°C,\",res[1],\"días entre 20°C y 30°C, y\",res[2],\"días estuvieron debajo de 20°C\")"
      ],
      "metadata": {
        "colab": {
          "base_uri": "https://localhost:8080/"
        },
        "id": "2xtMhpEn98kz",
        "outputId": "03a26107-9a4e-4061-bbe6-b11e4bb96348"
      },
      "execution_count": null,
      "outputs": [
        {
          "output_type": "stream",
          "name": "stdout",
          "text": [
            "4 días estuvieron por encima de 30°C, 4 días entre 20°C y 30°C, y 5 días estuvieron debajo de 20°C\n"
          ]
        }
      ]
    },
    {
      "cell_type": "markdown",
      "source": [
        "**Punto 8**"
      ],
      "metadata": {
        "id": "cxKBW_nl-CXS"
      }
    },
    {
      "cell_type": "code",
      "source": [
        "def calorias_totales(alimentos,calorias):\n",
        "  total = sum(calorias)\n",
        "  return total\n",
        "\n",
        "#Lista de ejemplo:\n",
        "alimentos = [\"Manzana, Huevo, Pollo, Pan, Arroz, Helado\"]\n",
        "calorias = [52,155,240,265,130,210]\n",
        "res = calorias_totales(alimentos,calorias)\n",
        "print(f\"Comiste\",alimentos,\"y tu total de calorías es:\",res)\n",
        "if res > 2000:\n",
        "  print(\"¡Superaste las 2000 calorías diarias recomendadas!\")\n",
        "else:\n",
        "  print(\"Estás dentro del consumo recomendado\")"
      ],
      "metadata": {
        "colab": {
          "base_uri": "https://localhost:8080/"
        },
        "id": "NMCNU_xE-EPC",
        "outputId": "95e55cb5-1568-4a42-86cb-a4d0e1286f03"
      },
      "execution_count": null,
      "outputs": [
        {
          "output_type": "stream",
          "name": "stdout",
          "text": [
            "Comiste ['Manzana, Huevo, Pollo, Pan, Arroz, Helado'] y tu total de calorías es: 1052\n",
            "Estás dentro del consumo recomendado\n"
          ]
        }
      ]
    },
    {
      "cell_type": "markdown",
      "source": [
        "**Punto 9**"
      ],
      "metadata": {
        "id": "gM--08_7-IGS"
      }
    },
    {
      "cell_type": "code",
      "source": [
        "def ventas_mensuales(ventas):\n",
        "  promedio = (sum(ventas))/12\n",
        "  sobre = sum(1 for ventas in ventas if ventas > promedio)\n",
        "  return sobre\n",
        "\n",
        "#Lista de ejemplo:\n",
        "ventas = [19,12,32,28,24,62,11,24,53,47,33,21]\n",
        "res = ventas_mensuales(ventas)\n",
        "promedio = (sum(ventas))/12\n",
        "print(\"El promedio de ventas es:\",promedio)\n",
        "print(res, \"meses estuvieron sobre el promedio.\")"
      ],
      "metadata": {
        "colab": {
          "base_uri": "https://localhost:8080/"
        },
        "id": "9XwI9MIL-MR7",
        "outputId": "c42e13a1-fef5-4005-88e8-aaa11daf1d7b"
      },
      "execution_count": null,
      "outputs": [
        {
          "output_type": "stream",
          "name": "stdout",
          "text": [
            "El promedio de ventas es: 30.5\n",
            "5 meses estuvieron sobre el promedio.\n"
          ]
        }
      ]
    },
    {
      "cell_type": "markdown",
      "source": [
        "**Punto 10**"
      ],
      "metadata": {
        "id": "lj4cQgfT-J9K"
      }
    },
    {
      "cell_type": "code",
      "source": [
        "def total_compra(compras):\n",
        "  a_pagar = sum(compras)\n",
        "\n",
        "  if 50 <= a_pagar <= 100:\n",
        "    total = a_pagar - (a_pagar * 0.05)\n",
        "    desc = \"5%\"\n",
        "\n",
        "  elif 100 < a_pagar < 200:\n",
        "    total = a_pagar - (a_pagar * 0.1)\n",
        "    desc = \"10%\"\n",
        "\n",
        "  elif 200 <= a_pagar:\n",
        "    total = a_pagar - (a_pagar * 0.15)\n",
        "    desc = \"15%\"\n",
        "\n",
        "  return total, desc\n",
        "\n",
        "#Lista de ejemplo:\n",
        "compras = [12,15,20,5,6,3,21,67]\n",
        "res = total_compra(compras)\n",
        "print(\"Su total es:\",sum(compras),\"| Pero con el descuento del\",res[1],\"es:\",res[0])"
      ],
      "metadata": {
        "colab": {
          "base_uri": "https://localhost:8080/"
        },
        "id": "1wT4XU2E-viy",
        "outputId": "aa4abcec-db4b-42d8-8a3a-8a39cb6be5af"
      },
      "execution_count": null,
      "outputs": [
        {
          "output_type": "stream",
          "name": "stdout",
          "text": [
            "Su total es: 149 | Pero con el descuento del 10% es: 134.1\n"
          ]
        }
      ]
    },
    {
      "cell_type": "markdown",
      "source": [
        "**Punto 11**"
      ],
      "metadata": {
        "id": "YUNUx9QEWFLQ"
      }
    },
    {
      "cell_type": "code",
      "source": [
        "nombres = [\"Juan Dominguez\", \"Victoria López\", \"Carlos Rivera\", \"Ana Ruiz\", \"Luis Zuluaga\"]\n",
        "edades = [27, 70, 56, 34, 66]\n",
        "pacientes_prioritarios = []\n",
        "pacientes = []\n",
        "\n",
        "for i in range(len(nombres)):\n",
        "    paciente = {\n",
        "        \"Edad paciente\": edades[i],\n",
        "        \"Nombre paciente\": nombres[i]\n",
        "        }\n",
        "    pacientes.append(paciente)\n",
        "\n",
        "for paciente in pacientes:\n",
        "    if paciente[\"Edad paciente\"] >= 60:\n",
        "        pacientes_prioritarios.append(paciente)\n",
        "\n",
        "print(\"Los pacientes prioritarios son: \", pacientes_prioritarios)"
      ],
      "metadata": {
        "colab": {
          "base_uri": "https://localhost:8080/"
        },
        "id": "8Ay3sYwaWJ7H",
        "outputId": "a301ce3f-ff2a-4375-c1f0-8cfb25095465"
      },
      "execution_count": null,
      "outputs": [
        {
          "output_type": "stream",
          "name": "stdout",
          "text": [
            "Los pacientes prioritarios son:  [{'Edad paciente': 70, 'Nombre paciente': 'Victoria López'}, {'Edad paciente': 66, 'Nombre paciente': 'Luis Zuluaga'}]\n"
          ]
        }
      ]
    },
    {
      "cell_type": "markdown",
      "source": [
        "**Punto 12**"
      ],
      "metadata": {
        "id": "YgsuWE-qW3JR"
      }
    },
    {
      "cell_type": "code",
      "source": [
        "def calcular_gastos(categorias, gastos):\n",
        "    total = 0\n",
        "    gasto_maximo = 0\n",
        "    categoria_maxima = \"\"\n",
        "\n",
        "    for i in range(len(categorias)):\n",
        "        total += gastos[i]\n",
        "        if gastos[i] > gasto_maximo:\n",
        "            gasto_maximo = gastos[i]\n",
        "            categoria_maxima = categorias[i]\n",
        "\n",
        "    print(f\"Total de gastos mensuales: ${total}\")\n",
        "    print(f\"El gasto más alto fue en '{categoria_maxima}' con un monto de ${gasto_maximo}\")\n",
        "\n",
        "\n",
        "categorias_gastos = [\"Alquiler\", \"Comida\", \"Transporte\", \"Entretenimiento\", \"Servicios\"]\n",
        "gastos_mensuales = [800, 300, 150, 200, 100]\n",
        "\n",
        "calcular_gastos(categorias_gastos, gastos_mensuales)\n"
      ],
      "metadata": {
        "colab": {
          "base_uri": "https://localhost:8080/"
        },
        "id": "N8qftAuNW5x1",
        "outputId": "268a212a-b378-40cd-8872-bdeef594b625"
      },
      "execution_count": null,
      "outputs": [
        {
          "output_type": "stream",
          "name": "stdout",
          "text": [
            "Total de gastos mensuales: $1550\n",
            "El gasto más alto fue en 'Alquiler' con un monto de $800\n"
          ]
        }
      ]
    },
    {
      "cell_type": "markdown",
      "source": [
        "**Punto 13**"
      ],
      "metadata": {
        "id": "dTdeBP6SXcet"
      }
    },
    {
      "cell_type": "code",
      "source": [
        "def verificar_asistencia(registrados, asistentes):\n",
        "    no_asistieron = []\n",
        "    for x in registrados:\n",
        "        if x not in asistentes:\n",
        "            no_asistieron.append(x)\n",
        "\n",
        "    print(\"Las personas que no asistieron fueron: \", no_asistieron)\n",
        "\n",
        "personas_registradas = [\"Juan Dominguez\", \"Victoria López\", \"Carlos Rivera\", \"Ana Ruiz\", \"Luis Zuluaga\"]\n",
        "personas_asistieron = [\"Victoria López\", \"Carlos Rivera\", \"Luis Zuluaga\"]\n",
        "\n",
        "verificar_asistencia(personas_registradas, personas_asistieron)"
      ],
      "metadata": {
        "colab": {
          "base_uri": "https://localhost:8080/"
        },
        "id": "22-IMXypXhhr",
        "outputId": "1b75e7bd-970f-40e4-e103-41ef9e480034"
      },
      "execution_count": null,
      "outputs": [
        {
          "output_type": "stream",
          "name": "stdout",
          "text": [
            "Las personas que no asistieron fueron:  ['Juan Dominguez', 'Ana Ruiz']\n"
          ]
        }
      ]
    },
    {
      "cell_type": "markdown",
      "source": [
        "**Punto 14**"
      ],
      "metadata": {
        "id": "qkiX2UkkwIo8"
      }
    },
    {
      "cell_type": "code",
      "source": [
        "def calcular_promedio(minutos):\n",
        "        total = sum(minutos)\n",
        "        promedio = total/len(minutos)\n",
        "        if promedio > 60:\n",
        "            print(\"Excelente, estás en forma\")\n",
        "        elif 30 <= promedio <= 60:\n",
        "            print(\"Buen trabajo, pero puedes mejorar\")\n",
        "        else:\n",
        "            print(\"Debes hacer más ejercicio\")\n",
        "\n",
        "minutos_por_dia = [35, 70, 60, 20, 70, 65, 50]\n",
        "calcular_promedio(minutos_por_dia)"
      ],
      "metadata": {
        "colab": {
          "base_uri": "https://localhost:8080/"
        },
        "id": "O8mSELH-31_B",
        "outputId": "4d488d25-57a3-480b-b3c6-fdca39abf7e1"
      },
      "execution_count": null,
      "outputs": [
        {
          "output_type": "stream",
          "name": "stdout",
          "text": [
            "Buen trabajo, pero puedes mejorar\n"
          ]
        }
      ]
    }
  ]
}