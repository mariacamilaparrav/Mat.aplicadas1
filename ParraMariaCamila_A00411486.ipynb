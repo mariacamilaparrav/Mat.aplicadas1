{
  "nbformat": 4,
  "nbformat_minor": 0,
  "metadata": {
    "colab": {
      "provenance": [],
      "authorship_tag": "ABX9TyMGq8ILivguzh4HBlgx+bKk",
      "include_colab_link": true
    },
    "kernelspec": {
      "name": "python3",
      "display_name": "Python 3"
    },
    "language_info": {
      "name": "python"
    }
  },
  "cells": [
    {
      "cell_type": "markdown",
      "metadata": {
        "id": "view-in-github",
        "colab_type": "text"
      },
      "source": [
        "<a href=\"https://colab.research.google.com/github/mariacamilaparrav/Mat.aplicadas1/blob/main/ParraMariaCamila_A00411486.ipynb\" target=\"_parent\"><img src=\"https://colab.research.google.com/assets/colab-badge.svg\" alt=\"Open In Colab\"/></a>"
      ]
    },
    {
      "cell_type": "markdown",
      "source": [
        "## ***Autobiografía***\n",
        "\n",
        "Mi nombre es Maria Camila, nací el 3 de mayo en Cali. Actualmente, estoy estudiando la carrera de <font color=\"0da466\"> Ingeniería Bioquímica</font>🌿. Cuando era niña disfrutaba patinar y ver películas, una vez cuando me preguntaron que quería ser de grande pensé en estudiar algo que tuviera que ver con química y pues así es como llegué aquí.\n",
        "\n",
        "En mi etapa de colegio especialmente en secundaria adquirí habilidades que me han ayudado hoy en día entre esas esta:\n",
        "><font color=\"4d0356\">¬ buena exposición oral\n",
        ">><font color=\"4d0356\">¬ bases para emprender un negocio\n",
        ">>><font color=\"4d0356\">¬ conocimientos en económica\n",
        "\n",
        "\n",
        "Estas habilidades fueron reconocidas y recibí medallas por eso en mi graduación del colegio. Esto a sido un poco de vida, de quien soy y que he hecho.\n",
        "\n",
        "Les empezare a contar cuales son mis gustos para que sepan un poquito más de mí.\n",
        "\n",
        "*Mi lista canciones favoritas*\n",
        "\n",
        "1. BARBA BLANCA \"Padre de Priratas\"\n",
        ">Autor:*MelodicMythos ES*\n",
        ">>Compositor: *MelodicMythos ES*\n",
        "2. La costa de silencio\n",
        ">Autor:*MelodicMythos ES*\n",
        ">>Compositor: *MelodicMythos ES*\n",
        "3. Pasatiempo\n",
        ">Autor: *ernestina*\n",
        ">>Compositor: *ernestina*\n",
        "4. Trebol\n",
        ">Autor: *Nasa histories*\n",
        ">>Compositor: *Nasa Histories*\n",
        "5. Diente de león\n",
        ">Autor: *Nasa histories*\n",
        ">>Compositor: *Nasa Histories*\n",
        "\n",
        "|Columna 1 | Columna 2 |\n",
        "|----------|-----------|\n",
        "|<font color=\"04c1af\">Quimica   |<font color=\"black\">Siempre me a gustado este tema por la forma en como vemos y manipulanos todo lo que nos rodea|\n",
        "|<font color=\"04c1af\">Lenguaje  |<font color=\"black\">me gusta por que puede aprender un poco de la historia y sus periodos y a empezar a saber como hacer exposiciones de buena manera|\n",
        "|<font color=\"04c1af\">Logica    |<font color=\"black\">me gusta porque puedo armar argumentos que sea verasiles y no que simplemente este hablando a lo loco|  \n",
        "\n",
        "Les pondre una imagen de mi serie actual favorita (se las recomiendo si les gusta este tipo de genero)"
      ],
      "metadata": {
        "id": "cQK-V0Y4As76"
      }
    },
    {
      "cell_type": "markdown",
      "source": [
        "<img src=\"https://spanish.korea.net/upload/content/image/ded59b88e09c4eceae32f9d41196f17c_20250205105413.jpg\" width=\"370\" height=\"300\" align=\"center\">"
      ],
      "metadata": {
        "id": "NM9R_-LiRch2"
      }
    }
  ]
}